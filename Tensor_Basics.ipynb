{
  "nbformat": 4,
  "nbformat_minor": 0,
  "metadata": {
    "colab": {
      "provenance": [],
      "authorship_tag": "ABX9TyMcBBaNAJqW/ptrkBRiTqAU",
      "include_colab_link": true
    },
    "kernelspec": {
      "name": "python3",
      "display_name": "Python 3"
    },
    "language_info": {
      "name": "python"
    }
  },
  "cells": [
    {
      "cell_type": "markdown",
      "metadata": {
        "id": "view-in-github",
        "colab_type": "text"
      },
      "source": [
        "<a href=\"https://colab.research.google.com/github/sachinmittal2212/Artificial-Intelligence-Deep-Learning-Machine-Learning-Tutorials/blob/master/Tensor_Basics.ipynb\" target=\"_parent\"><img src=\"https://colab.research.google.com/assets/colab-badge.svg\" alt=\"Open In Colab\"/></a>"
      ]
    },
    {
      "cell_type": "markdown",
      "source": [
        "Resource Notebook: https://www.learnpytorch.io\n",
        "Github: https://github.com/mrdbourke/pytorch-deep-learning"
      ],
      "metadata": {
        "id": "cFKE3gxgAIVR"
      }
    },
    {
      "cell_type": "markdown",
      "source": [
        "\n",
        "\n",
        "```\n",
        "# This is formatted as code\n",
        "```\n",
        "\n"
      ],
      "metadata": {
        "id": "DIeYj5Z8_30r"
      }
    },
    {
      "cell_type": "code",
      "source": [
        "import torch\n",
        "import pandas as pd\n",
        "import numpy as np\n",
        "import matplotlib.pyplot as plt\n",
        "print(torch.__version__)"
      ],
      "metadata": {
        "colab": {
          "base_uri": "https://localhost:8080/"
        },
        "id": "g5Q60r9NAlXq",
        "outputId": "de28f222-f33d-4fb8-810a-37ee6d680362"
      },
      "execution_count": 1,
      "outputs": [
        {
          "output_type": "stream",
          "name": "stdout",
          "text": [
            "2.4.0+cu121\n"
          ]
        }
      ]
    },
    {
      "cell_type": "markdown",
      "source": [
        "## introduction to tensors\n",
        "### creating tensors"
      ],
      "metadata": {
        "id": "sN4pTBy3AigX"
      }
    },
    {
      "cell_type": "code",
      "source": [
        "static_tensor  = torch.tensor([[[1,2,3],\n",
        "                        [3,4,5],\n",
        "                        [6,7,8]]], dtype=None, device= 'gpu', requires_grad=False)\n",
        "random_tensor = torch.rand(3,4)\n",
        "\n",
        "# use arange for tensor creation\n",
        "ten_tensor = torch.arange(start=1, end=10, step=1)"
      ],
      "metadata": {
        "id": "kwhCPlocDAQH"
      },
      "execution_count": 11,
      "outputs": []
    },
    {
      "cell_type": "code",
      "source": [
        "ten_tensor = static_tensor.type(torch.float16)\n",
        "print(f\"Datatype {ten_tensor.dtype}\")\n",
        "\n",
        "# torch.mean() function requires a tensor of float32 datatype to work\n",
        "# argmin() return min index value of tensors and argmax() return max index value"
      ],
      "metadata": {
        "colab": {
          "base_uri": "https://localhost:8080/"
        },
        "id": "rCKA0APPHib7",
        "outputId": "c1edd228-4b67-4bf8-fa57-54102550dfe6"
      },
      "execution_count": 14,
      "outputs": [
        {
          "output_type": "stream",
          "name": "stdout",
          "text": [
            "Datatype torch.float16\n"
          ]
        }
      ]
    },
    {
      "cell_type": "code",
      "source": [
        "import torch\n",
        "x = torch.arange(1.,10.)\n",
        "reshaped_x = x.reshape(1,9)\n",
        "z = x.view(1,9) # view shares the same memory with x and if z changes x changes\n",
        "z[:,0] = 5\n",
        "\n",
        "x_stacked = torch.stack([x,x,x,x], dim=0)\n",
        "x_stacked\n",
        "\n",
        "squeeze_tesnor = reshaped_x.squeeze() # remove dimension 1 from the tesnor\n",
        "unsqueeze_tesnor = squeeze_tesnor.unsqueeze(dim=0).shape # add dimension 1 from the tesnor\n",
        "\n",
        "x_original = torch.rand(size=(224,224,3))\n",
        " # Use permute to change the dimension order\n",
        "x_permuted = x_original.permute(2,0,1)\n",
        "x_permuted.shape"
      ],
      "metadata": {
        "colab": {
          "base_uri": "https://localhost:8080/"
        },
        "id": "mmVKWVQKTHg1",
        "outputId": "dbab42b0-b489-438c-fb45-d8a4ae86f2ae"
      },
      "execution_count": 24,
      "outputs": [
        {
          "output_type": "execute_result",
          "data": {
            "text/plain": [
              "torch.Size([3, 224, 224])"
            ]
          },
          "metadata": {},
          "execution_count": 24
        }
      ]
    },
    {
      "cell_type": "markdown",
      "source": [
        "## Reshaping, Stacking, Squeezing, Unsqueezing Tensors"
      ],
      "metadata": {
        "id": "tnnIqNbNN3oD"
      }
    },
    {
      "cell_type": "code",
      "source": [
        "import torch\n",
        "x = torch.arange(1,10).reshape(3,3)\n",
        "x[:,2][2]"
      ],
      "metadata": {
        "colab": {
          "base_uri": "https://localhost:8080/"
        },
        "id": "RDis8-uWTKHw",
        "outputId": "f6be22ce-b110-4470-ef55-a08cdadbf1d2"
      },
      "execution_count": 47,
      "outputs": [
        {
          "output_type": "execute_result",
          "data": {
            "text/plain": [
              "tensor(9)"
            ]
          },
          "metadata": {},
          "execution_count": 47
        }
      ]
    },
    {
      "cell_type": "code",
      "source": [
        "# pytorch with numpy\n",
        "import torch\n",
        "import numpy as np\n",
        "array = np.arange(1.0,8.0)\n",
        "# convert numpy default float64 to torch float32\n",
        "tensor = torch.from_numpy(array)\n",
        "\n",
        "# to change it back to numpy\n",
        "tesnor = torch.ones(7)\n",
        "numpy_tensor = tesnor.numpy()"
      ],
      "metadata": {
        "id": "uFX5p6ted26k"
      },
      "execution_count": null,
      "outputs": []
    },
    {
      "cell_type": "markdown",
      "source": [
        "## to reproduce random out of random"
      ],
      "metadata": {
        "id": "JRVlfIuTfZUl"
      }
    },
    {
      "cell_type": "code",
      "source": [
        "torch.rand(3,3) # pseudo random\n",
        "\n",
        "# set random seed\n",
        "torch.manual_seed(42)\n",
        "random_tesnor_A = torch.rand(3,4)\n",
        "random_tesnor_B = torch.rand(3,4)\n",
        "print(random_tesnor_A==random_tesnor_B)"
      ],
      "metadata": {
        "colab": {
          "base_uri": "https://localhost:8080/"
        },
        "id": "66KfOelofbjw",
        "outputId": "d4078daa-0d5f-4481-b323-a1468d8fea62"
      },
      "execution_count": 50,
      "outputs": [
        {
          "output_type": "stream",
          "name": "stdout",
          "text": [
            "tensor([[False, False, False, False],\n",
            "        [False, False, False, False],\n",
            "        [False, False, False, False]])\n"
          ]
        }
      ]
    },
    {
      "cell_type": "code",
      "source": [
        "import torch\n",
        "tesnor = torch.tensor([1,2,3])\n"
      ],
      "metadata": {
        "colab": {
          "base_uri": "https://localhost:8080/"
        },
        "id": "ZmsRscIsi-Dt",
        "outputId": "e4f5981b-c1cb-45b6-db4e-951b92a60807"
      },
      "execution_count": 51,
      "outputs": [
        {
          "output_type": "execute_result",
          "data": {
            "text/plain": [
              "False"
            ]
          },
          "metadata": {},
          "execution_count": 51
        }
      ]
    },
    {
      "cell_type": "code",
      "source": [],
      "metadata": {
        "id": "9_uU-QtKfXiG"
      },
      "execution_count": null,
      "outputs": []
    },
    {
      "cell_type": "markdown",
      "source": [],
      "metadata": {
        "id": "Xm8nY8b8PGU2"
      }
    }
  ]
}